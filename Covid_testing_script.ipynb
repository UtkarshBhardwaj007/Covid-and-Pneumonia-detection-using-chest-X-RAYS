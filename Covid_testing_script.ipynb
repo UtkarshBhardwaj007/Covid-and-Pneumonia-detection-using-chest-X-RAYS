{
  "nbformat": 4,
  "nbformat_minor": 0,
  "metadata": {
    "colab": {
      "name": "Covid_testing_script.ipynb",
      "provenance": [],
      "toc_visible": true
    },
    "kernelspec": {
      "name": "python3",
      "display_name": "Python 3"
    },
    "language_info": {
      "name": "python"
    }
  },
  "cells": [
    {
      "cell_type": "markdown",
      "metadata": {
        "id": "MN1Pwf4R22YH"
      },
      "source": [
        "# Making the imports"
      ]
    },
    {
      "cell_type": "code",
      "metadata": {
        "id": "VFO8cNg-UvZd"
      },
      "source": [
        "from keras.models import load_model\n",
        "import numpy as np"
      ],
      "execution_count": 1,
      "outputs": []
    },
    {
      "cell_type": "markdown",
      "metadata": {
        "id": "HPs2HKiB28AZ"
      },
      "source": [
        "# Loading the model"
      ]
    },
    {
      "cell_type": "code",
      "metadata": {
        "id": "lW5bTat-Z9e3"
      },
      "source": [
        "clf = load_model('/content/drive/MyDrive/ML-class-project/Resources/itis91.h5') # Change this to the path of the model"
      ],
      "execution_count": 2,
      "outputs": []
    },
    {
      "cell_type": "markdown",
      "metadata": {
        "id": "ChMPC4jk2-Ot"
      },
      "source": [
        "# Reading the image"
      ]
    },
    {
      "cell_type": "code",
      "metadata": {
        "id": "EMBY3lyeZQJu"
      },
      "source": [
        "import cv2\n",
        "img = cv2.imread('/content/Normal-1.png') # Change this to the path of the image\n",
        "\n",
        "img = cv2.resize(img, (180,180))\n",
        "\n",
        "img = cv2.cvtColor(img, cv2.COLOR_BGR2GRAY)\n",
        "img = np.expand_dims(img, 2)\n",
        "img = np.expand_dims(img, 0)"
      ],
      "execution_count": 10,
      "outputs": []
    },
    {
      "cell_type": "markdown",
      "metadata": {
        "id": "LdIV3GbU3YFl"
      },
      "source": [
        "# Making the predictions"
      ]
    },
    {
      "cell_type": "code",
      "metadata": {
        "colab": {
          "base_uri": "https://localhost:8080/"
        },
        "id": "0j8fLnrb3XgS",
        "outputId": "8213aab4-7ea2-4461-d80d-83d397ab1f06"
      },
      "source": [
        "# {'covid': 0, 'normal': 1, 'viral': 2}\n",
        "pred = np.argmax(clf.predict(img))\n",
        "if pred==0:\n",
        "  print(\"Covid\")\n",
        "elif pred==1:\n",
        "  print(\"Normal\")\n",
        "else:\n",
        "  print(\"Viral Pneumonia\")"
      ],
      "execution_count": 11,
      "outputs": [
        {
          "output_type": "stream",
          "text": [
            "Normal\n"
          ],
          "name": "stdout"
        }
      ]
    },
    {
      "cell_type": "code",
      "metadata": {
        "id": "-3Rqb3E84VNF"
      },
      "source": [
        ""
      ],
      "execution_count": null,
      "outputs": []
    }
  ]
}