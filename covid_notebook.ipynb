{
 "cells": [
  {
   "cell_type": "markdown",
   "metadata": {
    "id": "Up0kVLWgfF2h"
   },
   "source": [
    "# COVID DETECTION USING CHEST X-RAY SCANS\n",
    "## Submitted by - \n",
    "### 1) Utkarsh Bhardwaj\n",
    "###   2K18/CO/379\n",
    "### 2) Vishesh dargan\n",
    "###   2K18/CO/389"
   ]
  },
  {
   "cell_type": "markdown",
   "metadata": {
    "id": "aOPPrWcUaJua"
   },
   "source": [
    "#Integrating kaggle with google colab to download the dataset directly into colab."
   ]
  },
  {
   "cell_type": "code",
   "execution_count": null,
   "metadata": {
    "id": "F26nz3AiMEnt"
   },
   "outputs": [],
   "source": [
    "!pip install -q kaggle\n",
    "from google.colab import files\n",
    "files.upload()"
   ]
  },
  {
   "cell_type": "code",
   "execution_count": null,
   "metadata": {
    "id": "DrRp9jM-MKqU"
   },
   "outputs": [],
   "source": [
    "!cp kaggle.json ~/.kaggle/"
   ]
  },
  {
   "cell_type": "code",
   "execution_count": null,
   "metadata": {
    "id": "U2GO6JcQMXTl"
   },
   "outputs": [],
   "source": [
    "!chmod 600 ~/.kaggle/kaggle.json"
   ]
  },
  {
   "cell_type": "code",
   "execution_count": null,
   "metadata": {
    "id": "bmf-3a60Mb4D"
   },
   "outputs": [],
   "source": [
    "!kaggle datasets download -d tawsifurrahman/covid19-radiography-database"
   ]
  },
  {
   "cell_type": "code",
   "execution_count": null,
   "metadata": {
    "id": "NY5wNDUVQ0nw"
   },
   "outputs": [],
   "source": [
    "!unzip covid19-radiography-database.zip"
   ]
  },
  {
   "cell_type": "markdown",
   "metadata": {
    "id": "l-XruI6BaiCh"
   },
   "source": [
    "#Importing all the necessary libraries."
   ]
  },
  {
   "cell_type": "code",
   "execution_count": null,
   "metadata": {
    "id": "b8Y27XvLO741"
   },
   "outputs": [],
   "source": [
    "import os\n",
    "import shutil\n",
    "import random\n",
    "import numpy as np\n",
    "import pandas as pd\n",
    "import matplotlib.pyplot as plt\n",
    "import seaborn as sns\n",
    "import cv2\n",
    "from PIL import Image\n",
    "from keras.models import Sequential\n",
    "from keras.layers import Dense\n",
    "from keras.optimizers import Adam\n",
    "from keras.layers import Dropout, Flatten\n",
    "from keras.layers.convolutional import Conv2D, MaxPooling2D\n",
    "from keras.preprocessing.image import ImageDataGenerator\n",
    "from sklearn.metrics import confusion_matrix, classification_report\n",
    "from keras.models import load_model\n",
    "from keras.callbacks import EarlyStopping\n",
    "\n",
    "%matplotlib inline"
   ]
  },
  {
   "cell_type": "markdown",
   "metadata": {
    "id": "xWHo2P7yapWR"
   },
   "source": [
    "#Declaring the hyper parameters"
   ]
  },
  {
   "cell_type": "code",
   "execution_count": null,
   "metadata": {
    "id": "8jG3CqRVQgWp"
   },
   "outputs": [],
   "source": [
    "class_names = ['normal', 'viral', 'covid']\n",
    "root_dir = 'COVID-19 Radiography Database'\n",
    "source_dirs = ['NORMAL', 'Viral Pneumonia', 'COVID-19']\n",
    "batch_size_val = 64  # how many to process together\n",
    "steps_per_epoch_val = 20\n",
    "epochs_val = 1000\n",
    "imageDimesions = (180, 180, 1)\n",
    "target_size_val = (180, 180)\n",
    "validationRatio = 0.2 # if 1000 images 20% of remaining 800 will be 160 for validation\n",
    "noOfClasses = 3\n",
    "stride_value = 2"
   ]
  },
  {
   "cell_type": "markdown",
   "metadata": {
    "id": "igTtFw-cas3a"
   },
   "source": [
    "# Python script for arranging the dataset into a structure fit for Image data generators while also dividing the data into training and test set."
   ]
  },
  {
   "cell_type": "code",
   "execution_count": null,
   "metadata": {
    "id": "bHwqdri2QpIY"
   },
   "outputs": [],
   "source": [
    "if os.path.isdir(os.path.join(root_dir, source_dirs[1])):\n",
    "    os.mkdir(os.path.join(root_dir, 'test'))\n",
    "\n",
    "    for i, d in enumerate(source_dirs):\n",
    "        os.rename(os.path.join(root_dir, d), os.path.join(root_dir, class_names[i]))\n",
    "\n",
    "    for c in class_names:\n",
    "        os.mkdir(os.path.join(root_dir, 'test', c))\n",
    "\n",
    "    for c in class_names:\n",
    "        images = [x for x in os.listdir(os.path.join(root_dir, c)) if x.lower().endswith('png')]\n",
    "        selected_images = random.sample(images, 30)\n",
    "        for image in selected_images:\n",
    "            source_path = os.path.join(root_dir, c, image)\n",
    "            target_path = os.path.join(root_dir, 'test', c, image)\n",
    "            shutil.move(source_path, target_path)\n",
    "\n",
    "if not os.path.isdir(os.path.join(root_dir, 'train')):\n",
    "    os.mkdir(os.path.join(root_dir, 'train'))\n",
    "    \n",
    "    for c in class_names:\n",
    "        os.mkdir(os.path.join(root_dir, 'train', c))\n",
    "        \n",
    "    for c in class_names:\n",
    "        images = [x for x in os.listdir(os.path.join(root_dir, c)) if x.lower().endswith('png')]\n",
    "        for image in images:\n",
    "            source_path = os.path.join(root_dir, c, image)\n",
    "            target_path = os.path.join(root_dir, 'train', c, image)\n",
    "            shutil.move(source_path, target_path)\n",
    "    for c in class_names:\n",
    "        os.rmdir(os.path.join(root_dir, c))"
   ]
  },
  {
   "cell_type": "markdown",
   "metadata": {
    "id": "EbRPnbBOa3aY"
   },
   "source": [
    "# Declaring the model architecture as a function making it easier to call a build model function and get a compiled model to use."
   ]
  },
  {
   "cell_type": "code",
   "execution_count": null,
   "metadata": {
    "colab": {
     "base_uri": "https://localhost:8080/",
     "height": 605
    },
    "id": "1CVnDqFDQxSz",
    "outputId": "d32bea53-a4ec-44ce-b327-10ce69df4127"
   },
   "outputs": [
    {
     "name": "stdout",
     "output_type": "stream",
     "text": [
      "Model: \"sequential_2\"\n",
      "_________________________________________________________________\n",
      "Layer (type)                 Output Shape              Param #   \n",
      "=================================================================\n",
      "conv2d_8 (Conv2D)            (None, 178, 178, 64)      640       \n",
      "_________________________________________________________________\n",
      "conv2d_9 (Conv2D)            (None, 176, 176, 64)      36928     \n",
      "_________________________________________________________________\n",
      "max_pooling2d_4 (MaxPooling2 (None, 88, 88, 64)        0         \n",
      "_________________________________________________________________\n",
      "dropout_6 (Dropout)          (None, 88, 88, 64)        0         \n",
      "_________________________________________________________________\n",
      "conv2d_10 (Conv2D)           (None, 86, 86, 64)        36928     \n",
      "_________________________________________________________________\n",
      "conv2d_11 (Conv2D)           (None, 84, 84, 64)        36928     \n",
      "_________________________________________________________________\n",
      "max_pooling2d_5 (MaxPooling2 (None, 42, 42, 64)        0         \n",
      "_________________________________________________________________\n",
      "dropout_7 (Dropout)          (None, 42, 42, 64)        0         \n",
      "_________________________________________________________________\n",
      "flatten_2 (Flatten)          (None, 112896)            0         \n",
      "_________________________________________________________________\n",
      "dense_6 (Dense)              (None, 64)                7225408   \n",
      "_________________________________________________________________\n",
      "dense_7 (Dense)              (None, 32)                2080      \n",
      "_________________________________________________________________\n",
      "dropout_8 (Dropout)          (None, 32)                0         \n",
      "_________________________________________________________________\n",
      "dense_8 (Dense)              (None, 3)                 99        \n",
      "=================================================================\n",
      "Total params: 7,339,011\n",
      "Trainable params: 7,339,011\n",
      "Non-trainable params: 0\n",
      "_________________________________________________________________\n",
      "None\n"
     ]
    }
   ],
   "source": [
    "def myModel():\n",
    "    no_Of_Filters = 64\n",
    "    \n",
    "    no_Of_Filters2 = 30\n",
    "    \n",
    "    size_of_Filter = (3, 3)\n",
    "    size_of_Filter2 = (3,3)\n",
    "    size_of_pool = (2,2)\n",
    "    no_Of_Nodes = 64\n",
    "    model= Sequential()\n",
    "    model.add((Conv2D(no_Of_Filters, size_of_Filter, input_shape = imageDimesions, activation='relu')))\n",
    "    model.add((Conv2D(no_Of_Filters, size_of_Filter, activation='relu')))\n",
    "    model.add(MaxPooling2D(pool_size = size_of_pool, strides=stride_value)) # DOES NOT EFFECT THE DEPTH/NO OF FILTERS\n",
    "    model.add(Dropout(0.2))\n",
    "    model.add((Conv2D(no_Of_Filters, size_of_Filter, activation='relu')))\n",
    "    model.add((Conv2D(no_Of_Filters, size_of_Filter, activation='relu')))\n",
    "    model.add(MaxPooling2D(pool_size=size_of_pool, strides=stride_value))\n",
    "    model.add(Dropout(0.2))\n",
    "\n",
    "    model.add(Flatten())\n",
    "    # model.add(Dropout(0.3))\n",
    "    model.add(Dense(no_Of_Nodes,activation='relu'))\n",
    "    model.add(Dense(32, activation='relu'))\n",
    "    model.add(Dropout(0.5))\n",
    "    model.add(Dense(noOfClasses,activation='softmax')) # OUTPUT LAYER\n",
    "    # COMPILE MODEL\n",
    "    model.compile(Adam(lr=0.001),loss='categorical_crossentropy',metrics=['accuracy'])\n",
    "    return model\n",
    "\n",
    "\n",
    "model = myModel()\n",
    "print(model.summary())"
   ]
  },
  {
   "cell_type": "markdown",
   "metadata": {
    "id": "uOsBIbojbFgE"
   },
   "source": [
    "# Normalisation of images"
   ]
  },
  {
   "cell_type": "code",
   "execution_count": null,
   "metadata": {
    "id": "To55gkBVROsO"
   },
   "outputs": [],
   "source": [
    "def preprocessing(img):\n",
    "    img = img/255                                   # TO NORMALIZE VALUES BETWEEN 0 AND 1 INSTEAD OF 0 TO 255\n",
    "    return img"
   ]
  },
  {
   "cell_type": "markdown",
   "metadata": {
    "id": "vt0cUtfIbIwf"
   },
   "source": [
    "# Making the Image Data Generators for data augmentation."
   ]
  },
  {
   "cell_type": "code",
   "execution_count": null,
   "metadata": {
    "id": "1hM0DtesTeEA"
   },
   "outputs": [],
   "source": [
    "datagen = ImageDataGenerator(width_shift_range=0.1,   # 0.1 = 10%     IF MORE THAN 1 E.G 10 THEN IT REFFERS TO NO. OF  PIXELS EG 10 PIXELS\n",
    "                            height_shift_range=0.1,\n",
    "                            zoom_range=0.2,  # 0.2 MEANS CAN GO FROM 0.8 TO 1.2\n",
    "                            shear_range=0.1,  # MAGNITUDE OF SHEAR ANGLE\n",
    "                            rotation_range=10,\n",
    "                            horizontal_flip = True,\n",
    "                            validation_split = validationRatio,\n",
    "                            preprocessing_function = preprocessing)"
   ]
  },
  {
   "cell_type": "markdown",
   "metadata": {
    "id": "5ntllXJVbVcN"
   },
   "source": [
    "# Using flow_from_directory to import data into the generator"
   ]
  },
  {
   "cell_type": "code",
   "execution_count": null,
   "metadata": {
    "colab": {
     "base_uri": "https://localhost:8080/",
     "height": 34
    },
    "id": "mYnEGS7NTgN9",
    "outputId": "0343b014-40bd-4b61-e8d2-8ad96d829bca"
   },
   "outputs": [
    {
     "name": "stdout",
     "output_type": "stream",
     "text": [
      "Found 2253 images belonging to 3 classes.\n"
     ]
    }
   ],
   "source": [
    "train_generator = datagen.flow_from_directory(os.path.join(root_dir, 'train'),\n",
    "                                              subset = 'training',\n",
    "                                              color_mode = \"grayscale\",\n",
    "                                              target_size = target_size_val,\n",
    "                                              batch_size = batch_size_val)"
   ]
  },
  {
   "cell_type": "markdown",
   "metadata": {
    "id": "b_ueMpjwcT5J"
   },
   "source": [
    "# Since we're using grayscale images for calculations, the image shape in the data generator has 1 channel as we set the color_mode above to grayscale."
   ]
  },
  {
   "cell_type": "code",
   "execution_count": null,
   "metadata": {
    "colab": {
     "base_uri": "https://localhost:8080/",
     "height": 34
    },
    "id": "d0Cnql8VIeYu",
    "outputId": "62635ce2-b58e-4b3b-e676-b45ed7553860"
   },
   "outputs": [
    {
     "name": "stdout",
     "output_type": "stream",
     "text": [
      "(180, 180, 1)\n"
     ]
    }
   ],
   "source": [
    "print(train_generator.image_shape)"
   ]
  },
  {
   "cell_type": "markdown",
   "metadata": {
    "id": "1yN4PojAci5y"
   },
   "source": [
    "# Printing the label map for future references."
   ]
  },
  {
   "cell_type": "code",
   "execution_count": null,
   "metadata": {
    "colab": {
     "base_uri": "https://localhost:8080/",
     "height": 34
    },
    "id": "NOrive8tTidg",
    "outputId": "8cd928e1-1206-4ef4-ec94-58cb8b6cdd22"
   },
   "outputs": [
    {
     "name": "stdout",
     "output_type": "stream",
     "text": [
      "{'covid': 0, 'normal': 1, 'viral': 2}\n"
     ]
    }
   ],
   "source": [
    "label_map = (train_generator.class_indices)\n",
    "print(label_map)"
   ]
  },
  {
   "cell_type": "markdown",
   "metadata": {
    "id": "HiJtB6iWcnE2"
   },
   "source": [
    "# The validation generator consists of the data used for validation and comprises of 20% of the training data."
   ]
  },
  {
   "cell_type": "code",
   "execution_count": null,
   "metadata": {
    "colab": {
     "base_uri": "https://localhost:8080/",
     "height": 34
    },
    "id": "RschaQJ_Tkkw",
    "outputId": "5b5cfdf2-641f-492a-b6a8-a0045a121082"
   },
   "outputs": [
    {
     "name": "stdout",
     "output_type": "stream",
     "text": [
      "Found 562 images belonging to 3 classes.\n"
     ]
    }
   ],
   "source": [
    "val_generator = datagen.flow_from_directory(os.path.join(root_dir, 'train'),\n",
    "                                            subset = 'validation',\n",
    "                                            color_mode = \"grayscale\",\n",
    "                                            target_size=target_size_val,\n",
    "                                            batch_size=batch_size_val)"
   ]
  },
  {
   "cell_type": "markdown",
   "metadata": {
    "id": "fTCpBbKfc0gw"
   },
   "source": [
    "# Initialising the callbacks (Early Stopping here) and appending them to the callbacks list.\n",
    "## It is note worthy that restore best weights has been set to true which would restore the weights of the epoch which had the best value for the quantity beinng monitored, validation accuracy in this case."
   ]
  },
  {
   "cell_type": "code",
   "execution_count": null,
   "metadata": {
    "id": "8vld35C3Tng2"
   },
   "outputs": [],
   "source": [
    "cb = EarlyStopping(monitor=\"val_accuracy\",\n",
    "    min_delta = 0.001,\n",
    "    patience = 10,\n",
    "    verbose = 1,\n",
    "    mode = \"auto\",\n",
    "    baseline = None,\n",
    "    restore_best_weights = True,\n",
    ")\n",
    "\n",
    "cb_list = [cb]"
   ]
  },
  {
   "cell_type": "markdown",
   "metadata": {
    "id": "tAnOgbHCdRY3"
   },
   "source": [
    "# Fitting the model with number of epochs set to 1000"
   ]
  },
  {
   "cell_type": "code",
   "execution_count": null,
   "metadata": {
    "colab": {
     "base_uri": "https://localhost:8080/",
     "height": 857
    },
    "id": "lwNqolz9TqPP",
    "outputId": "71c7f9d2-d1ab-44d8-dfb6-0a17e5c55eea"
   },
   "outputs": [
    {
     "name": "stdout",
     "output_type": "stream",
     "text": [
      "Epoch 1/1000\n",
      "36/36 [==============================] - 645s 18s/step - loss: 0.9840 - accuracy: 0.4572 - val_loss: 0.8701 - val_accuracy: 0.4698\n",
      "Epoch 2/1000\n",
      "36/36 [==============================] - 642s 18s/step - loss: 0.8198 - accuracy: 0.5513 - val_loss: 0.7935 - val_accuracy: 0.6281\n",
      "Epoch 3/1000\n",
      "36/36 [==============================] - 645s 18s/step - loss: 0.7115 - accuracy: 0.6485 - val_loss: 0.5092 - val_accuracy: 0.8060\n",
      "Epoch 4/1000\n",
      "36/36 [==============================] - 641s 18s/step - loss: 0.6065 - accuracy: 0.7483 - val_loss: 0.4665 - val_accuracy: 0.8274\n",
      "Epoch 5/1000\n",
      "36/36 [==============================] - 641s 18s/step - loss: 0.5644 - accuracy: 0.7679 - val_loss: 0.5110 - val_accuracy: 0.7687\n",
      "Epoch 6/1000\n",
      "36/36 [==============================] - 643s 18s/step - loss: 0.5125 - accuracy: 0.7865 - val_loss: 0.4182 - val_accuracy: 0.8523\n",
      "Epoch 7/1000\n",
      "36/36 [==============================] - 643s 18s/step - loss: 0.4973 - accuracy: 0.8047 - val_loss: 0.4426 - val_accuracy: 0.8452\n",
      "Epoch 8/1000\n",
      "36/36 [==============================] - 655s 18s/step - loss: 0.5373 - accuracy: 0.8012 - val_loss: 0.4131 - val_accuracy: 0.8434\n",
      "Epoch 9/1000\n",
      "36/36 [==============================] - 640s 18s/step - loss: 0.5016 - accuracy: 0.8127 - val_loss: 0.4921 - val_accuracy: 0.7705\n",
      "Epoch 10/1000\n",
      "36/36 [==============================] - 643s 18s/step - loss: 0.4729 - accuracy: 0.8140 - val_loss: 0.4326 - val_accuracy: 0.8292\n",
      "Epoch 11/1000\n",
      "36/36 [==============================] - 644s 18s/step - loss: 0.4604 - accuracy: 0.8238 - val_loss: 0.3534 - val_accuracy: 0.8594\n",
      "Epoch 12/1000\n",
      "36/36 [==============================] - 643s 18s/step - loss: 0.4611 - accuracy: 0.8211 - val_loss: 0.4307 - val_accuracy: 0.8256\n",
      "Epoch 13/1000\n",
      "36/36 [==============================] - 644s 18s/step - loss: 0.4903 - accuracy: 0.8127 - val_loss: 0.3871 - val_accuracy: 0.8701\n",
      "Epoch 14/1000\n",
      "36/36 [==============================] - 643s 18s/step - loss: 0.4172 - accuracy: 0.8482 - val_loss: 0.3206 - val_accuracy: 0.9093\n",
      "Epoch 15/1000\n",
      "36/36 [==============================] - 642s 18s/step - loss: 0.3738 - accuracy: 0.8655 - val_loss: 0.3394 - val_accuracy: 0.8897\n",
      "Epoch 16/1000\n",
      "36/36 [==============================] - 639s 18s/step - loss: 0.3944 - accuracy: 0.8606 - val_loss: 0.3028 - val_accuracy: 0.9021\n",
      "Epoch 17/1000\n",
      "36/36 [==============================] - 639s 18s/step - loss: 0.3580 - accuracy: 0.8757 - val_loss: 0.3172 - val_accuracy: 0.8897\n",
      "Epoch 18/1000\n",
      "36/36 [==============================] - 640s 18s/step - loss: 0.3610 - accuracy: 0.8793 - val_loss: 0.2523 - val_accuracy: 0.9039\n",
      "Epoch 19/1000\n",
      "36/36 [==============================] - 642s 18s/step - loss: 0.3711 - accuracy: 0.8731 - val_loss: 0.3001 - val_accuracy: 0.8950\n",
      "Epoch 20/1000\n",
      "36/36 [==============================] - 641s 18s/step - loss: 0.3544 - accuracy: 0.8784 - val_loss: 0.2842 - val_accuracy: 0.8968\n",
      "Epoch 21/1000\n",
      "36/36 [==============================] - 644s 18s/step - loss: 0.3243 - accuracy: 0.8873 - val_loss: 0.2819 - val_accuracy: 0.9093\n",
      "Epoch 22/1000\n",
      "36/36 [==============================] - 640s 18s/step - loss: 0.3149 - accuracy: 0.8819 - val_loss: 0.3262 - val_accuracy: 0.8879\n",
      "Epoch 23/1000\n",
      "36/36 [==============================] - 641s 18s/step - loss: 0.2883 - accuracy: 0.8975 - val_loss: 0.3437 - val_accuracy: 0.9057\n",
      "Epoch 24/1000\n",
      "36/36 [==============================] - ETA: 0s - loss: 0.3209 - accuracy: 0.8859 Restoring model weights from the end of the best epoch.\n",
      "36/36 [==============================] - 642s 18s/step - loss: 0.3209 - accuracy: 0.8859 - val_loss: 0.4688 - val_accuracy: 0.8256\n",
      "Epoch 00024: early stopping\n"
     ]
    }
   ],
   "source": [
    "history = model.fit_generator(train_generator,\n",
    "                            epochs=epochs_val,\n",
    "                            validation_data=val_generator,\n",
    "                            shuffle=1,\n",
    "                            callbacks = cb_list)"
   ]
  },
  {
   "cell_type": "markdown",
   "metadata": {
    "id": "caotGotqdVkT"
   },
   "source": [
    "# Saving the model for future use as it took 6.5 hrs to train."
   ]
  },
  {
   "cell_type": "code",
   "execution_count": null,
   "metadata": {
    "id": "6VsHrnLhTswb"
   },
   "outputs": [],
   "source": [
    "model.save('itis91.h5')"
   ]
  },
  {
   "cell_type": "markdown",
   "metadata": {
    "id": "tNiPD8zGdbkU"
   },
   "source": [
    "Also saving the model architecture in a json format and the associated weights in another H5 file as this is the preferred format for deploying the model on the web."
   ]
  },
  {
   "cell_type": "code",
   "execution_count": null,
   "metadata": {
    "id": "88zjLf1UKVu-"
   },
   "outputs": [],
   "source": [
    "model_json = model.to_json()\n",
    "with open(\"model.json\", \"w\") as json_file:\n",
    "    json_file.write(model_json)"
   ]
  },
  {
   "cell_type": "code",
   "execution_count": null,
   "metadata": {
    "id": "u2t1JB2PLjBp"
   },
   "outputs": [],
   "source": [
    "model.save_weights(\"weights91.h5\")"
   ]
  },
  {
   "cell_type": "markdown",
   "metadata": {
    "id": "gFHMardHdnft"
   },
   "source": [
    "# Uncomment to load the model for direct use."
   ]
  },
  {
   "cell_type": "code",
   "execution_count": null,
   "metadata": {
    "id": "VtVl0snZLrW0"
   },
   "outputs": [],
   "source": [
    "# model = load_model('itis91.h5')"
   ]
  },
  {
   "cell_type": "markdown",
   "metadata": {
    "id": "DG8IIUJXdu8k"
   },
   "source": [
    "# Visualisation\n",
    "## Plotting the accuracy and loss curves for training and validation with respect to epochs."
   ]
  },
  {
   "cell_type": "code",
   "execution_count": null,
   "metadata": {
    "colab": {
     "base_uri": "https://localhost:8080/",
     "height": 573
    },
    "id": "nk_FwQS_OHJN",
    "outputId": "6aed9ee8-a90f-4b70-c9ec-cda759fefae7"
   },
   "outputs": [
    {
     "data": {
      "image/png": "[encoded data removed]",
      "text/plain": [
       "<Figure size 432x288 with 1 Axes>"
      ]
     },
     "metadata": {
      "needs_background": "light",
      "tags": []
     },
     "output_type": "display_data"
    },
    {
     "data": {
      "image/png": "[encoded data removed]",
      "text/plain": [
       "<Figure size 432x288 with 1 Axes>"
      ]
     },
     "metadata": {
      "needs_background": "light",
      "tags": []
     },
     "output_type": "display_data"
    }
   ],
   "source": [
    "plt.figure(1)\n",
    "plt.plot(history.history['loss'])\n",
    "plt.plot(history.history['val_loss'])\n",
    "plt.legend(['training','validation'])\n",
    "plt.title('loss')\n",
    "plt.xlabel('epoch')\n",
    "plt.figure(2)\n",
    "plt.plot(history.history['accuracy'])\n",
    "plt.plot(history.history['val_accuracy'])\n",
    "plt.legend(['training','validation'])\n",
    "plt.title('Acurracy')\n",
    "plt.xlabel('epoch')\n",
    "plt.show()"
   ]
  },
  {
   "cell_type": "markdown",
   "metadata": {
    "id": "xhdYSW_Rd5Eg"
   },
   "source": [
    "# Declaring the paths to the directories of the training set."
   ]
  },
  {
   "cell_type": "code",
   "execution_count": null,
   "metadata": {
    "id": "eieXivd0NY2J"
   },
   "outputs": [],
   "source": [
    "pathnormal = os.path.join(root_dir, 'test', 'normal')\n",
    "pathcovid = os.path.join(root_dir, 'test', 'covid')\n",
    "pathviral = os.path.join(root_dir, 'test', 'viral')"
   ]
  },
  {
   "cell_type": "markdown",
   "metadata": {
    "id": "KGQ7VmMad_-K"
   },
   "source": [
    "## 1) Loading the test data\n",
    "## 2) Preprocessing the test data\n",
    "## 3) Making predictions on the data\n",
    "## 4) Appending the predicted labels to one list and the true labels to another.\n",
    "## 5) Making the classification report and the confusion matrix for the predictions."
   ]
  },
  {
   "cell_type": "code",
   "execution_count": null,
   "metadata": {
    "colab": {
     "base_uri": "https://localhost:8080/",
     "height": 570
    },
    "id": "LQebvdjdOVGF",
    "outputId": "c8e940ec-e8b2-42cb-a0b2-ed329a20dcaa"
   },
   "outputs": [
    {
     "name": "stdout",
     "output_type": "stream",
     "text": [
      "WARNING:tensorflow:From <ipython-input-15-81a6d0c7e857>:47: Sequential.predict_classes (from tensorflow.python.keras.engine.sequential) is deprecated and will be removed after 2021-01-01.\n",
      "Instructions for updating:\n",
      "Please use instead:* `np.argmax(model.predict(x), axis=-1)`,   if your model does multi-class classification   (e.g. if it uses a `softmax` last-layer activation).* `(model.predict(x) > 0.5).astype(\"int32\")`,   if your model does binary classification   (e.g. if it uses a `sigmoid` last-layer activation).\n",
      "[[24  2  4]\n",
      " [ 1 28  1]\n",
      " [ 0  4 26]]\n",
      "              precision    recall  f1-score   support\n",
      "\n",
      "           0       0.96      0.80      0.87        30\n",
      "           1       0.82      0.93      0.87        30\n",
      "           2       0.84      0.87      0.85        30\n",
      "\n",
      "    accuracy                           0.87        90\n",
      "   macro avg       0.87      0.87      0.87        90\n",
      "weighted avg       0.87      0.87      0.87        90\n",
      "\n"
     ]
    },
    {
     "data": {
      "text/plain": [
       "<matplotlib.axes._subplots.AxesSubplot at 0x7f72edfd7dd8>"
      ]
     },
     "execution_count": 15,
     "metadata": {
      "tags": []
     },
     "output_type": "execute_result"
    },
    {
     "data": {
      "image/png": "[encoded data removed]",
      "text/plain": [
       "<Figure size 432x288 with 2 Axes>"
      ]
     },
     "metadata": {
      "needs_background": "light",
      "tags": []
     },
     "output_type": "display_data"
    }
   ],
   "source": [
    "images = []\n",
    "truevals = []\n",
    "pred = []\n",
    "\n",
    "mylist = os.listdir(pathnormal)\n",
    "for y in mylist:\n",
    "  img = cv2.imread(os.path.join(pathnormal, y))\n",
    "  img = cv2.cvtColor(img, cv2.COLOR_BGR2GRAY)\n",
    "  img = cv2.resize(img, (180, 180))\n",
    "  img = np.expand_dims(img, axis = 0)\n",
    "  img = np.expand_dims(img, axis = 3)\n",
    "  img = img/255.0\n",
    "  images.append(img)\n",
    "  truevals.append(1)\n",
    "\n",
    "mylist = os.listdir(pathcovid)\n",
    "\n",
    "for y in mylist:\n",
    "  #plt.imshow(os.path.join(pathcovid, y))\n",
    "  break\n",
    "\n",
    "for y in mylist:\n",
    "  img = cv2.imread(os.path.join(pathcovid, y))\n",
    "  img = cv2.cvtColor(img, cv2.COLOR_BGR2GRAY)\n",
    "  img = cv2.resize(img, (180, 180))\n",
    "  img = np.expand_dims(img, axis = 0)\n",
    "  img = np.expand_dims(img, axis = 3)\n",
    "  img = img/255.0\n",
    "  images.append(img)\n",
    "  truevals.append(0)\n",
    "\n",
    "mylist = os.listdir(pathviral)\n",
    "for y in mylist:\n",
    "  img = cv2.imread(os.path.join(pathviral, y))\n",
    "  # print(img.shape)\n",
    "  img = cv2.cvtColor(img, cv2.COLOR_BGR2GRAY)\n",
    "  img = cv2.resize(img, (180, 180))\n",
    "  img = np.expand_dims(img, axis = 0)\n",
    "  img = np.expand_dims(img, axis = 3)\n",
    "  # print(img.shape)\n",
    "  # plt.imshow(img)\n",
    "  img = img/255.0\n",
    "  images.append(img)\n",
    "  truevals.append(2)\n",
    "\n",
    "for y in images:\n",
    "  pred.append(model.predict_classes(y))\n",
    "\n",
    "mat = confusion_matrix(truevals, pred)\n",
    "print(mat)\n",
    "\n",
    "clfrpt = classification_report(truevals, pred)\n",
    "print(clfrpt)\n",
    "\n",
    "sns.heatmap(mat, cmap='winter')"
   ]
  },
  {
   "cell_type": "markdown",
   "metadata": {
    "id": "HpXSvv3iehnA"
   },
   "source": [
    "#Importing the necessary libraries to calculate AUC scores."
   ]
  },
  {
   "cell_type": "code",
   "execution_count": null,
   "metadata": {
    "id": "znx4yw1P08XW"
   },
   "outputs": [],
   "source": [
    "from sklearn.metrics import roc_auc_score, roc_curve, auc"
   ]
  },
  {
   "cell_type": "markdown",
   "metadata": {
    "id": "LSt0p5QPenOy"
   },
   "source": [
    "# Calculating the AUC score"
   ]
  },
  {
   "cell_type": "code",
   "execution_count": null,
   "metadata": {
    "id": "2H3IwL7d3KFl"
   },
   "outputs": [],
   "source": [
    "truevals0 = []\n",
    "pred0 = []\n",
    "\n",
    "for i in range(len(truevals)):\n",
    "  if truevals[i] == 0:\n",
    "    truevals0.append(truevals[i])\n",
    "    pred0.append(pred[i])\n",
    "  else:\n",
    "    truevals0.append(1)\n",
    "    if pred[i]==0:\n",
    "      pred0.append(0)\n",
    "    else:\n",
    "      pred0.append(1)"
   ]
  },
  {
   "cell_type": "code",
   "execution_count": null,
   "metadata": {
    "colab": {
     "base_uri": "https://localhost:8080/"
    },
    "id": "_Nc488r23Tqg",
    "outputId": "887153bc-0f7c-44c7-db21-e1d120504884"
   },
   "outputs": [
    {
     "data": {
      "text/plain": [
       "0.8261111111111112"
      ]
     },
     "execution_count": 18,
     "metadata": {
      "tags": []
     },
     "output_type": "execute_result"
    }
   ],
   "source": [
    "roc_auc_score(truevals0, pred0)"
   ]
  },
  {
   "cell_type": "markdown",
   "metadata": {
    "id": "4A77qyYketBP"
   },
   "source": [
    "# Plotting the ROC curve with the calculated AUC score on it."
   ]
  },
  {
   "cell_type": "code",
   "execution_count": null,
   "metadata": {
    "colab": {
     "base_uri": "https://localhost:8080/",
     "height": 295
    },
    "id": "mdpO7OBT4nbq",
    "outputId": "bab4f04a-f7e1-4c51-d9a9-1849eadd8a32"
   },
   "outputs": [
    {
     "data": {
      "image/png": "[encoded data removed]",
      "text/plain": [
       "<Figure size 432x288 with 1 Axes>"
      ]
     },
     "metadata": {
      "needs_background": "light",
      "tags": []
     },
     "output_type": "display_data"
    }
   ],
   "source": [
    "fpr, tpr, threshold = roc_curve(truevals0, pred0)\n",
    "roc_auc = auc(fpr, tpr)\n",
    "\n",
    "plt.title('Receiver Operating Characteristic')\n",
    "plt.plot(fpr, tpr, 'b', label = 'AUC = %0.2f' % roc_auc)\n",
    "plt.legend(loc = 'lower right')\n",
    "plt.plot([0, 1], [0, 1],'r--')\n",
    "plt.xlim([0, 1])\n",
    "plt.ylim([0, 1])\n",
    "plt.ylabel('True Positive Rate')\n",
    "plt.xlabel('False Positive Rate')\n",
    "plt.show()"
   ]
  },
  {
   "cell_type": "markdown",
   "metadata": {
    "id": "rBFawL2QezN_"
   },
   "source": [
    "# Performing similar predictive analysis on the training data as above."
   ]
  },
  {
   "cell_type": "code",
   "execution_count": null,
   "metadata": {
    "colab": {
     "base_uri": "https://localhost:8080/"
    },
    "id": "Hwc1kx6aXkM-",
    "outputId": "605da5e0-d6ae-4821-e56b-4bf6bcbe82d3"
   },
   "outputs": [
    {
     "name": "stdout",
     "output_type": "stream",
     "text": [
      "[[ 145   16   28]\n",
      " [   8 1271   32]\n",
      " [  12  187 1116]]\n",
      "              precision    recall  f1-score   support\n",
      "\n",
      "           0       0.88      0.77      0.82       189\n",
      "           1       0.86      0.97      0.91      1311\n",
      "           2       0.95      0.85      0.90      1315\n",
      "\n",
      "    accuracy                           0.90      2815\n",
      "   macro avg       0.90      0.86      0.88      2815\n",
      "weighted avg       0.90      0.90      0.90      2815\n",
      "\n"
     ]
    }
   ],
   "source": [
    "pathnormal = os.path.join(root_dir, 'train', 'normal')\n",
    "pathcovid = os.path.join(root_dir, 'train', 'covid')\n",
    "pathviral = os.path.join(root_dir, 'train', 'viral')\n",
    "images = []\n",
    "truevals = []\n",
    "pred = []\n",
    "\n",
    "mylist = os.listdir(pathnormal)\n",
    "for y in mylist:\n",
    "  img = cv2.imread(os.path.join(pathnormal, y))\n",
    "  img = cv2.cvtColor(img, cv2.COLOR_BGR2GRAY)\n",
    "  img = cv2.resize(img, (180, 180))\n",
    "  img = np.expand_dims(img, axis = 0)\n",
    "  img = np.expand_dims(img, axis = 3)\n",
    "  img = img/255.0\n",
    "  images.append(img)\n",
    "  truevals.append(1)\n",
    "\n",
    "mylist = os.listdir(pathcovid)\n",
    "\n",
    "for y in mylist:\n",
    "  #plt.imshow(os.path.join(pathcovid, y))\n",
    "  break\n",
    "\n",
    "for y in mylist:\n",
    "  img = cv2.imread(os.path.join(pathcovid, y))\n",
    "  img = cv2.cvtColor(img, cv2.COLOR_BGR2GRAY)\n",
    "  img = cv2.resize(img, (180, 180))\n",
    "  img = np.expand_dims(img, axis = 0)\n",
    "  img = np.expand_dims(img, axis = 3)\n",
    "  img = img/255.0\n",
    "  images.append(img)\n",
    "  truevals.append(0)\n",
    "\n",
    "mylist = os.listdir(pathviral)\n",
    "for y in mylist:\n",
    "  img = cv2.imread(os.path.join(pathviral, y))\n",
    "  # print(img.shape)\n",
    "  img = cv2.cvtColor(img, cv2.COLOR_BGR2GRAY)\n",
    "  img = cv2.resize(img, (180, 180))\n",
    "  img = np.expand_dims(img, axis = 0)\n",
    "  img = np.expand_dims(img, axis = 3)\n",
    "  # print(img.shape)\n",
    "  # plt.imshow(img)\n",
    "  img = img/255.0\n",
    "  images.append(img)\n",
    "  truevals.append(2)\n",
    "\n",
    "for y in images:\n",
    "  pred.append(model.predict_classes(y))\n",
    "\n",
    "mat = confusion_matrix(truevals, pred)\n",
    "print(mat)\n",
    "\n",
    "clfrpt = classification_report(truevals, pred)\n",
    "print(clfrpt)"
   ]
  },
  {
   "cell_type": "markdown",
   "metadata": {
    "id": "DWibRhnve88o"
   },
   "source": [
    "# AUC ROC score for the entire data"
   ]
  },
  {
   "cell_type": "code",
   "execution_count": null,
   "metadata": {
    "colab": {
     "base_uri": "https://localhost:8080/",
     "height": 295
    },
    "id": "7qNIJELDQPsz",
    "outputId": "6115eeba-1b19-4fe6-936f-bc63022f6c3c"
   },
   "outputs": [
    {
     "data": {
      "image/png": "[encoded data removed]",
      "text/plain": [
       "<Figure size 432x288 with 1 Axes>"
      ]
     },
     "metadata": {
      "needs_background": "light",
      "tags": []
     },
     "output_type": "display_data"
    }
   ],
   "source": [
    "truevals0 = []\n",
    "pred0 = []\n",
    "\n",
    "for i in range(len(truevals)):\n",
    "  if truevals[i] == 0:\n",
    "    truevals0.append(truevals[i])\n",
    "    pred0.append(pred[i])\n",
    "  else:\n",
    "    truevals0.append(1)\n",
    "    if pred[i]==0:\n",
    "      pred0.append(0)\n",
    "    else:\n",
    "      pred0.append(1)\n",
    "      fpr, tpr, threshold = roc_curve(truevals0, pred0)\n",
    "roc_auc = auc(fpr, tpr)\n",
    "\n",
    "plt.title('Receiver Operating Characteristic')\n",
    "plt.plot(fpr, tpr, 'b', label = 'AUC = %0.2f' % roc_auc)\n",
    "plt.legend(loc = 'lower right')\n",
    "plt.plot([0, 1], [0, 1],'r--')\n",
    "plt.xlim([0, 1])\n",
    "plt.ylim([0, 1])\n",
    "plt.ylabel('True Positive Rate')\n",
    "plt.xlabel('False Positive Rate')\n",
    "plt.show()"
   ]
  }
 ],
 "metadata": {
  "accelerator": "TPU",
  "colab": {
   "collapsed_sections": [],
   "name": "Copy of covid.ipynb",
   "provenance": [],
   "toc_visible": true
  },
  "kernelspec": {
   "display_name": "Python 3",
   "language": "python",
   "name": "python3"
  },
  "language_info": {
   "codemirror_mode": {
    "name": "ipython",
    "version": 3
   },
   "file_extension": ".py",
   "mimetype": "text/x-python",
   "name": "python",
   "nbconvert_exporter": "python",
   "pygments_lexer": "ipython3",
   "version": "3.6.10"
  }
 },
 "nbformat": 4,
 "nbformat_minor": 1
}
